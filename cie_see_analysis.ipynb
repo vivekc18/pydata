{
 "cells": [
  {
   "cell_type": "code",
   "execution_count": 54,
   "id": "b6527051",
   "metadata": {},
   "outputs": [],
   "source": [
    "import matplotlib.pyplot as plt\n",
    "import numpy as np\n",
    "import pandas as pd"
   ]
  },
  {
   "cell_type": "code",
   "execution_count": 55,
   "id": "b0e72fcc",
   "metadata": {},
   "outputs": [
    {
     "data": {
      "text/html": [
       "<div>\n",
       "<style scoped>\n",
       "    .dataframe tbody tr th:only-of-type {\n",
       "        vertical-align: middle;\n",
       "    }\n",
       "\n",
       "    .dataframe tbody tr th {\n",
       "        vertical-align: top;\n",
       "    }\n",
       "\n",
       "    .dataframe thead th {\n",
       "        text-align: right;\n",
       "    }\n",
       "</style>\n",
       "<table border=\"1\" class=\"dataframe\">\n",
       "  <thead>\n",
       "    <tr style=\"text-align: right;\">\n",
       "      <th></th>\n",
       "      <th>Reg No</th>\n",
       "      <th>Name</th>\n",
       "      <th>Sem</th>\n",
       "      <th>CIE</th>\n",
       "      <th>SEE</th>\n",
       "    </tr>\n",
       "  </thead>\n",
       "  <tbody>\n",
       "    <tr>\n",
       "      <th>0</th>\n",
       "      <td>393CS18001</td>\n",
       "      <td>ABHISHEK NEELKANTAPPA JAMBAGI</td>\n",
       "      <td>1</td>\n",
       "      <td>121</td>\n",
       "      <td>204</td>\n",
       "    </tr>\n",
       "    <tr>\n",
       "      <th>1</th>\n",
       "      <td>393CS18002</td>\n",
       "      <td>AISHWARYA PATIL</td>\n",
       "      <td>1</td>\n",
       "      <td>296</td>\n",
       "      <td>440</td>\n",
       "    </tr>\n",
       "    <tr>\n",
       "      <th>2</th>\n",
       "      <td>393CS18003</td>\n",
       "      <td>AKASH BASAVARAJ MALAPPAGOL</td>\n",
       "      <td>1</td>\n",
       "      <td>185</td>\n",
       "      <td>308</td>\n",
       "    </tr>\n",
       "    <tr>\n",
       "      <th>3</th>\n",
       "      <td>393CS18004</td>\n",
       "      <td>AKASH MUTTAPPA JANGAMASHETTI</td>\n",
       "      <td>1</td>\n",
       "      <td>94</td>\n",
       "      <td>154</td>\n",
       "    </tr>\n",
       "    <tr>\n",
       "      <th>4</th>\n",
       "      <td>393CS18005</td>\n",
       "      <td>ANUSHREE PATIL</td>\n",
       "      <td>1</td>\n",
       "      <td>99</td>\n",
       "      <td>164</td>\n",
       "    </tr>\n",
       "    <tr>\n",
       "      <th>5</th>\n",
       "      <td>393CS18007</td>\n",
       "      <td>CHAITRA PATTAR</td>\n",
       "      <td>1</td>\n",
       "      <td>390</td>\n",
       "      <td>531</td>\n",
       "    </tr>\n",
       "    <tr>\n",
       "      <th>6</th>\n",
       "      <td>393CS18008</td>\n",
       "      <td>CHETAN KAPPARAD</td>\n",
       "      <td>1</td>\n",
       "      <td>222</td>\n",
       "      <td>344</td>\n",
       "    </tr>\n",
       "    <tr>\n",
       "      <th>7</th>\n",
       "      <td>393CS18010</td>\n",
       "      <td>MALLIKARJUN KORWAR</td>\n",
       "      <td>1</td>\n",
       "      <td>155</td>\n",
       "      <td>267</td>\n",
       "    </tr>\n",
       "    <tr>\n",
       "      <th>8</th>\n",
       "      <td>393CS18012</td>\n",
       "      <td>MRUTUNJAY GUDDODAGI</td>\n",
       "      <td>1</td>\n",
       "      <td>193</td>\n",
       "      <td>299</td>\n",
       "    </tr>\n",
       "    <tr>\n",
       "      <th>9</th>\n",
       "      <td>393CS18013</td>\n",
       "      <td>NADAF SOHAIL NASIM</td>\n",
       "      <td>1</td>\n",
       "      <td>340</td>\n",
       "      <td>484</td>\n",
       "    </tr>\n",
       "    <tr>\n",
       "      <th>10</th>\n",
       "      <td>393CS18014</td>\n",
       "      <td>NIKIL NADUVINAKERI</td>\n",
       "      <td>1</td>\n",
       "      <td>30</td>\n",
       "      <td>54</td>\n",
       "    </tr>\n",
       "    <tr>\n",
       "      <th>11</th>\n",
       "      <td>393CS18015</td>\n",
       "      <td>PATIL AMRUTA ARVIND</td>\n",
       "      <td>1</td>\n",
       "      <td>306</td>\n",
       "      <td>450</td>\n",
       "    </tr>\n",
       "    <tr>\n",
       "      <th>12</th>\n",
       "      <td>393CS18016</td>\n",
       "      <td>PRASHANT LAKKANNA BAGAYAT</td>\n",
       "      <td>1</td>\n",
       "      <td>228</td>\n",
       "      <td>341</td>\n",
       "    </tr>\n",
       "    <tr>\n",
       "      <th>13</th>\n",
       "      <td>393CS18017</td>\n",
       "      <td>PRATHAM LILADHAR NAYAK</td>\n",
       "      <td>1</td>\n",
       "      <td>100</td>\n",
       "      <td>172</td>\n",
       "    </tr>\n",
       "    <tr>\n",
       "      <th>14</th>\n",
       "      <td>393CS18018</td>\n",
       "      <td>PRATIBHA SHIVAJI SHINDE</td>\n",
       "      <td>1</td>\n",
       "      <td>138</td>\n",
       "      <td>243</td>\n",
       "    </tr>\n",
       "    <tr>\n",
       "      <th>15</th>\n",
       "      <td>393CS18019</td>\n",
       "      <td>RAKSHITA KULKARNI</td>\n",
       "      <td>1</td>\n",
       "      <td>180</td>\n",
       "      <td>304</td>\n",
       "    </tr>\n",
       "    <tr>\n",
       "      <th>16</th>\n",
       "      <td>393CS18020</td>\n",
       "      <td>RAVIKUMAR DANAYYA HIREMATH</td>\n",
       "      <td>1</td>\n",
       "      <td>66</td>\n",
       "      <td>130</td>\n",
       "    </tr>\n",
       "    <tr>\n",
       "      <th>17</th>\n",
       "      <td>393CS18021</td>\n",
       "      <td>SANTOSH ANDANIMATH</td>\n",
       "      <td>1</td>\n",
       "      <td>118</td>\n",
       "      <td>227</td>\n",
       "    </tr>\n",
       "    <tr>\n",
       "      <th>18</th>\n",
       "      <td>393CS18022</td>\n",
       "      <td>SHASHANKGOUDA S PATIL</td>\n",
       "      <td>1</td>\n",
       "      <td>103</td>\n",
       "      <td>177</td>\n",
       "    </tr>\n",
       "    <tr>\n",
       "      <th>19</th>\n",
       "      <td>393CS18023</td>\n",
       "      <td>SHRIDHAR NAGESHRAO</td>\n",
       "      <td>1</td>\n",
       "      <td>105</td>\n",
       "      <td>182</td>\n",
       "    </tr>\n",
       "    <tr>\n",
       "      <th>20</th>\n",
       "      <td>393CS18024</td>\n",
       "      <td>SHRIKANT S BABALADI</td>\n",
       "      <td>1</td>\n",
       "      <td>280</td>\n",
       "      <td>411</td>\n",
       "    </tr>\n",
       "    <tr>\n",
       "      <th>21</th>\n",
       "      <td>393CS18025</td>\n",
       "      <td>SRUSHTI SURESH KORI</td>\n",
       "      <td>1</td>\n",
       "      <td>192</td>\n",
       "      <td>298</td>\n",
       "    </tr>\n",
       "    <tr>\n",
       "      <th>22</th>\n",
       "      <td>393CS18026</td>\n",
       "      <td>SUMIT BABU KOLAR</td>\n",
       "      <td>1</td>\n",
       "      <td>245</td>\n",
       "      <td>380</td>\n",
       "    </tr>\n",
       "    <tr>\n",
       "      <th>23</th>\n",
       "      <td>393CS18027</td>\n",
       "      <td>SWATI SHIVANAND HUNUR</td>\n",
       "      <td>1</td>\n",
       "      <td>276</td>\n",
       "      <td>420</td>\n",
       "    </tr>\n",
       "    <tr>\n",
       "      <th>24</th>\n",
       "      <td>393CS18028</td>\n",
       "      <td>TAMBE GANESH DHONDIRAM</td>\n",
       "      <td>1</td>\n",
       "      <td>377</td>\n",
       "      <td>522</td>\n",
       "    </tr>\n",
       "    <tr>\n",
       "      <th>25</th>\n",
       "      <td>393CS18029</td>\n",
       "      <td>TRIMURTI DEGINAL</td>\n",
       "      <td>1</td>\n",
       "      <td>104</td>\n",
       "      <td>180</td>\n",
       "    </tr>\n",
       "    <tr>\n",
       "      <th>26</th>\n",
       "      <td>393CS18030</td>\n",
       "      <td>VAISHNAVI HUNASHIKATTI</td>\n",
       "      <td>1</td>\n",
       "      <td>200</td>\n",
       "      <td>327</td>\n",
       "    </tr>\n",
       "  </tbody>\n",
       "</table>\n",
       "</div>"
      ],
      "text/plain": [
       "        Reg No                           Name  Sem  CIE  SEE\n",
       "0   393CS18001  ABHISHEK NEELKANTAPPA JAMBAGI    1  121  204\n",
       "1   393CS18002                AISHWARYA PATIL    1  296  440\n",
       "2   393CS18003     AKASH BASAVARAJ MALAPPAGOL    1  185  308\n",
       "3   393CS18004   AKASH MUTTAPPA JANGAMASHETTI    1   94  154\n",
       "4   393CS18005                 ANUSHREE PATIL    1   99  164\n",
       "5   393CS18007                 CHAITRA PATTAR    1  390  531\n",
       "6   393CS18008                CHETAN KAPPARAD    1  222  344\n",
       "7   393CS18010             MALLIKARJUN KORWAR    1  155  267\n",
       "8   393CS18012            MRUTUNJAY GUDDODAGI    1  193  299\n",
       "9   393CS18013             NADAF SOHAIL NASIM    1  340  484\n",
       "10  393CS18014             NIKIL NADUVINAKERI    1   30   54\n",
       "11  393CS18015            PATIL AMRUTA ARVIND    1  306  450\n",
       "12  393CS18016      PRASHANT LAKKANNA BAGAYAT    1  228  341\n",
       "13  393CS18017         PRATHAM LILADHAR NAYAK    1  100  172\n",
       "14  393CS18018        PRATIBHA SHIVAJI SHINDE    1  138  243\n",
       "15  393CS18019              RAKSHITA KULKARNI    1  180  304\n",
       "16  393CS18020     RAVIKUMAR DANAYYA HIREMATH    1   66  130\n",
       "17  393CS18021             SANTOSH ANDANIMATH    1  118  227\n",
       "18  393CS18022          SHASHANKGOUDA S PATIL    1  103  177\n",
       "19  393CS18023             SHRIDHAR NAGESHRAO    1  105  182\n",
       "20  393CS18024            SHRIKANT S BABALADI    1  280  411\n",
       "21  393CS18025            SRUSHTI SURESH KORI    1  192  298\n",
       "22  393CS18026               SUMIT BABU KOLAR    1  245  380\n",
       "23  393CS18027          SWATI SHIVANAND HUNUR    1  276  420\n",
       "24  393CS18028         TAMBE GANESH DHONDIRAM    1  377  522\n",
       "25  393CS18029               TRIMURTI DEGINAL    1  104  180\n",
       "26  393CS18030         VAISHNAVI HUNASHIKATTI    1  200  327"
      ]
     },
     "execution_count": 55,
     "metadata": {},
     "output_type": "execute_result"
    }
   ],
   "source": [
    "df = pd.read_csv(\"dataset/cie_see.csv\")\n",
    "df"
   ]
  },
  {
   "cell_type": "code",
   "execution_count": 56,
   "id": "43647e0c",
   "metadata": {},
   "outputs": [
    {
     "name": "stdout",
     "output_type": "stream",
     "text": [
      "<class 'pandas.core.frame.DataFrame'>\n",
      "RangeIndex: 27 entries, 0 to 26\n",
      "Data columns (total 5 columns):\n",
      " #   Column  Non-Null Count  Dtype \n",
      "---  ------  --------------  ----- \n",
      " 0   Reg No  27 non-null     object\n",
      " 1   Name    27 non-null     object\n",
      " 2   Sem     27 non-null     int64 \n",
      " 3   CIE     27 non-null     int64 \n",
      " 4   SEE     27 non-null     int64 \n",
      "dtypes: int64(3), object(2)\n",
      "memory usage: 1.2+ KB\n"
     ]
    }
   ],
   "source": [
    "df.info()"
   ]
  },
  {
   "cell_type": "code",
   "execution_count": 57,
   "id": "56672d6a",
   "metadata": {},
   "outputs": [
    {
     "data": {
      "text/plain": [
       "<matplotlib.collections.PathCollection at 0x1ea0f90d7f0>"
      ]
     },
     "execution_count": 57,
     "metadata": {},
     "output_type": "execute_result"
    },
    {
     "data": {
      "image/png": "[encoded data removed]",
      "text/plain": [
       "<Figure size 432x288 with 1 Axes>"
      ]
     },
     "metadata": {
      "needs_background": "light"
     },
     "output_type": "display_data"
    }
   ],
   "source": [
    "plt.scatter(df[\"CIE\"],df[\"SEE\"])"
   ]
  },
  {
   "cell_type": "code",
   "execution_count": 58,
   "id": "24546ad6",
   "metadata": {},
   "outputs": [],
   "source": [
    "from sklearn.model_selection import train_test_split"
   ]
  },
  {
   "cell_type": "code",
   "execution_count": 59,
   "id": "cc88d8ab",
   "metadata": {},
   "outputs": [
    {
     "data": {
      "text/html": [
       "<div>\n",
       "<style scoped>\n",
       "    .dataframe tbody tr th:only-of-type {\n",
       "        vertical-align: middle;\n",
       "    }\n",
       "\n",
       "    .dataframe tbody tr th {\n",
       "        vertical-align: top;\n",
       "    }\n",
       "\n",
       "    .dataframe thead th {\n",
       "        text-align: right;\n",
       "    }\n",
       "</style>\n",
       "<table border=\"1\" class=\"dataframe\">\n",
       "  <thead>\n",
       "    <tr style=\"text-align: right;\">\n",
       "      <th></th>\n",
       "      <th>CIE</th>\n",
       "    </tr>\n",
       "  </thead>\n",
       "  <tbody>\n",
       "    <tr>\n",
       "      <th>0</th>\n",
       "      <td>121</td>\n",
       "    </tr>\n",
       "    <tr>\n",
       "      <th>1</th>\n",
       "      <td>296</td>\n",
       "    </tr>\n",
       "    <tr>\n",
       "      <th>2</th>\n",
       "      <td>185</td>\n",
       "    </tr>\n",
       "    <tr>\n",
       "      <th>3</th>\n",
       "      <td>94</td>\n",
       "    </tr>\n",
       "    <tr>\n",
       "      <th>4</th>\n",
       "      <td>99</td>\n",
       "    </tr>\n",
       "    <tr>\n",
       "      <th>5</th>\n",
       "      <td>390</td>\n",
       "    </tr>\n",
       "    <tr>\n",
       "      <th>6</th>\n",
       "      <td>222</td>\n",
       "    </tr>\n",
       "    <tr>\n",
       "      <th>7</th>\n",
       "      <td>155</td>\n",
       "    </tr>\n",
       "    <tr>\n",
       "      <th>8</th>\n",
       "      <td>193</td>\n",
       "    </tr>\n",
       "    <tr>\n",
       "      <th>9</th>\n",
       "      <td>340</td>\n",
       "    </tr>\n",
       "    <tr>\n",
       "      <th>10</th>\n",
       "      <td>30</td>\n",
       "    </tr>\n",
       "    <tr>\n",
       "      <th>11</th>\n",
       "      <td>306</td>\n",
       "    </tr>\n",
       "    <tr>\n",
       "      <th>12</th>\n",
       "      <td>228</td>\n",
       "    </tr>\n",
       "    <tr>\n",
       "      <th>13</th>\n",
       "      <td>100</td>\n",
       "    </tr>\n",
       "    <tr>\n",
       "      <th>14</th>\n",
       "      <td>138</td>\n",
       "    </tr>\n",
       "    <tr>\n",
       "      <th>15</th>\n",
       "      <td>180</td>\n",
       "    </tr>\n",
       "    <tr>\n",
       "      <th>16</th>\n",
       "      <td>66</td>\n",
       "    </tr>\n",
       "    <tr>\n",
       "      <th>17</th>\n",
       "      <td>118</td>\n",
       "    </tr>\n",
       "    <tr>\n",
       "      <th>18</th>\n",
       "      <td>103</td>\n",
       "    </tr>\n",
       "    <tr>\n",
       "      <th>19</th>\n",
       "      <td>105</td>\n",
       "    </tr>\n",
       "    <tr>\n",
       "      <th>20</th>\n",
       "      <td>280</td>\n",
       "    </tr>\n",
       "    <tr>\n",
       "      <th>21</th>\n",
       "      <td>192</td>\n",
       "    </tr>\n",
       "    <tr>\n",
       "      <th>22</th>\n",
       "      <td>245</td>\n",
       "    </tr>\n",
       "    <tr>\n",
       "      <th>23</th>\n",
       "      <td>276</td>\n",
       "    </tr>\n",
       "    <tr>\n",
       "      <th>24</th>\n",
       "      <td>377</td>\n",
       "    </tr>\n",
       "    <tr>\n",
       "      <th>25</th>\n",
       "      <td>104</td>\n",
       "    </tr>\n",
       "    <tr>\n",
       "      <th>26</th>\n",
       "      <td>200</td>\n",
       "    </tr>\n",
       "  </tbody>\n",
       "</table>\n",
       "</div>"
      ],
      "text/plain": [
       "    CIE\n",
       "0   121\n",
       "1   296\n",
       "2   185\n",
       "3    94\n",
       "4    99\n",
       "5   390\n",
       "6   222\n",
       "7   155\n",
       "8   193\n",
       "9   340\n",
       "10   30\n",
       "11  306\n",
       "12  228\n",
       "13  100\n",
       "14  138\n",
       "15  180\n",
       "16   66\n",
       "17  118\n",
       "18  103\n",
       "19  105\n",
       "20  280\n",
       "21  192\n",
       "22  245\n",
       "23  276\n",
       "24  377\n",
       "25  104\n",
       "26  200"
      ]
     },
     "execution_count": 59,
     "metadata": {},
     "output_type": "execute_result"
    }
   ],
   "source": [
    "x=df[[\"CIE\"]]\n",
    "x"
   ]
  },
  {
   "cell_type": "code",
   "execution_count": 60,
   "id": "41aa0bd0",
   "metadata": {},
   "outputs": [
    {
     "data": {
      "text/html": [
       "<div>\n",
       "<style scoped>\n",
       "    .dataframe tbody tr th:only-of-type {\n",
       "        vertical-align: middle;\n",
       "    }\n",
       "\n",
       "    .dataframe tbody tr th {\n",
       "        vertical-align: top;\n",
       "    }\n",
       "\n",
       "    .dataframe thead th {\n",
       "        text-align: right;\n",
       "    }\n",
       "</style>\n",
       "<table border=\"1\" class=\"dataframe\">\n",
       "  <thead>\n",
       "    <tr style=\"text-align: right;\">\n",
       "      <th></th>\n",
       "      <th>SEE</th>\n",
       "    </tr>\n",
       "  </thead>\n",
       "  <tbody>\n",
       "    <tr>\n",
       "      <th>0</th>\n",
       "      <td>204</td>\n",
       "    </tr>\n",
       "    <tr>\n",
       "      <th>1</th>\n",
       "      <td>440</td>\n",
       "    </tr>\n",
       "    <tr>\n",
       "      <th>2</th>\n",
       "      <td>308</td>\n",
       "    </tr>\n",
       "    <tr>\n",
       "      <th>3</th>\n",
       "      <td>154</td>\n",
       "    </tr>\n",
       "    <tr>\n",
       "      <th>4</th>\n",
       "      <td>164</td>\n",
       "    </tr>\n",
       "    <tr>\n",
       "      <th>5</th>\n",
       "      <td>531</td>\n",
       "    </tr>\n",
       "    <tr>\n",
       "      <th>6</th>\n",
       "      <td>344</td>\n",
       "    </tr>\n",
       "    <tr>\n",
       "      <th>7</th>\n",
       "      <td>267</td>\n",
       "    </tr>\n",
       "    <tr>\n",
       "      <th>8</th>\n",
       "      <td>299</td>\n",
       "    </tr>\n",
       "    <tr>\n",
       "      <th>9</th>\n",
       "      <td>484</td>\n",
       "    </tr>\n",
       "    <tr>\n",
       "      <th>10</th>\n",
       "      <td>54</td>\n",
       "    </tr>\n",
       "    <tr>\n",
       "      <th>11</th>\n",
       "      <td>450</td>\n",
       "    </tr>\n",
       "    <tr>\n",
       "      <th>12</th>\n",
       "      <td>341</td>\n",
       "    </tr>\n",
       "    <tr>\n",
       "      <th>13</th>\n",
       "      <td>172</td>\n",
       "    </tr>\n",
       "    <tr>\n",
       "      <th>14</th>\n",
       "      <td>243</td>\n",
       "    </tr>\n",
       "    <tr>\n",
       "      <th>15</th>\n",
       "      <td>304</td>\n",
       "    </tr>\n",
       "    <tr>\n",
       "      <th>16</th>\n",
       "      <td>130</td>\n",
       "    </tr>\n",
       "    <tr>\n",
       "      <th>17</th>\n",
       "      <td>227</td>\n",
       "    </tr>\n",
       "    <tr>\n",
       "      <th>18</th>\n",
       "      <td>177</td>\n",
       "    </tr>\n",
       "    <tr>\n",
       "      <th>19</th>\n",
       "      <td>182</td>\n",
       "    </tr>\n",
       "    <tr>\n",
       "      <th>20</th>\n",
       "      <td>411</td>\n",
       "    </tr>\n",
       "    <tr>\n",
       "      <th>21</th>\n",
       "      <td>298</td>\n",
       "    </tr>\n",
       "    <tr>\n",
       "      <th>22</th>\n",
       "      <td>380</td>\n",
       "    </tr>\n",
       "    <tr>\n",
       "      <th>23</th>\n",
       "      <td>420</td>\n",
       "    </tr>\n",
       "    <tr>\n",
       "      <th>24</th>\n",
       "      <td>522</td>\n",
       "    </tr>\n",
       "    <tr>\n",
       "      <th>25</th>\n",
       "      <td>180</td>\n",
       "    </tr>\n",
       "    <tr>\n",
       "      <th>26</th>\n",
       "      <td>327</td>\n",
       "    </tr>\n",
       "  </tbody>\n",
       "</table>\n",
       "</div>"
      ],
      "text/plain": [
       "    SEE\n",
       "0   204\n",
       "1   440\n",
       "2   308\n",
       "3   154\n",
       "4   164\n",
       "5   531\n",
       "6   344\n",
       "7   267\n",
       "8   299\n",
       "9   484\n",
       "10   54\n",
       "11  450\n",
       "12  341\n",
       "13  172\n",
       "14  243\n",
       "15  304\n",
       "16  130\n",
       "17  227\n",
       "18  177\n",
       "19  182\n",
       "20  411\n",
       "21  298\n",
       "22  380\n",
       "23  420\n",
       "24  522\n",
       "25  180\n",
       "26  327"
      ]
     },
     "execution_count": 60,
     "metadata": {},
     "output_type": "execute_result"
    }
   ],
   "source": [
    "y=df[[\"SEE\"]]\n",
    "y"
   ]
  },
  {
   "cell_type": "code",
   "execution_count": 61,
   "id": "e5bbd5b1",
   "metadata": {},
   "outputs": [],
   "source": [
    "x_train,x_test,y_train,y_test=train_test_split(x,y,test_size=0.2,train_size=0.8)"
   ]
  },
  {
   "cell_type": "code",
   "execution_count": 62,
   "id": "73d80788",
   "metadata": {},
   "outputs": [],
   "source": [
    "from sklearn.linear_model import LinearRegression"
   ]
  },
  {
   "cell_type": "code",
   "execution_count": 63,
   "id": "5d48e2be",
   "metadata": {},
   "outputs": [],
   "source": [
    "lr=LinearRegression()"
   ]
  },
  {
   "cell_type": "code",
   "execution_count": 64,
   "id": "202aa241",
   "metadata": {},
   "outputs": [
    {
     "data": {
      "text/plain": [
       "LinearRegression()"
      ]
     },
     "execution_count": 64,
     "metadata": {},
     "output_type": "execute_result"
    }
   ],
   "source": [
    "lr.fit(x_train,y_train)"
   ]
  },
  {
   "cell_type": "code",
   "execution_count": 65,
   "id": "33f33407",
   "metadata": {},
   "outputs": [],
   "source": [
    "A=lr.predict(x_test)"
   ]
  },
  {
   "cell_type": "code",
   "execution_count": 66,
   "id": "81cc458d",
   "metadata": {},
   "outputs": [
    {
     "data": {
      "text/plain": [
       "array([[ 99.30096522],\n",
       "       [144.45890121],\n",
       "       [303.7660643 ],\n",
       "       [185.85367587],\n",
       "       [412.89774295],\n",
       "       [187.10806299]])"
      ]
     },
     "execution_count": 66,
     "metadata": {},
     "output_type": "execute_result"
    }
   ],
   "source": [
    "A"
   ]
  },
  {
   "cell_type": "code",
   "execution_count": 67,
   "id": "3cd23ac6",
   "metadata": {},
   "outputs": [
    {
     "data": {
      "text/plain": [
       "0.9637023962266579"
      ]
     },
     "execution_count": 67,
     "metadata": {},
     "output_type": "execute_result"
    }
   ],
   "source": [
    "lr.score(x_test,y_test)"
   ]
  },
  {
   "cell_type": "code",
   "execution_count": 68,
   "id": "3715a3fa",
   "metadata": {},
   "outputs": [
    {
     "data": {
      "text/plain": [
       "0.9877956958900505"
      ]
     },
     "execution_count": 68,
     "metadata": {},
     "output_type": "execute_result"
    }
   ],
   "source": [
    "lr.score(x_train,y_train)"
   ]
  },
  {
   "cell_type": "code",
   "execution_count": 69,
   "id": "55e55747",
   "metadata": {},
   "outputs": [
    {
     "data": {
      "text/plain": [
       "17.230902090673997"
      ]
     },
     "execution_count": 69,
     "metadata": {},
     "output_type": "execute_result"
    }
   ],
   "source": [
    "from sklearn.metrics import mean_absolute_error\n",
    "mean_absolute_error(y_test,A)"
   ]
  },
  {
   "cell_type": "code",
   "execution_count": 70,
   "id": "c1aab459",
   "metadata": {},
   "outputs": [
    {
     "data": {
      "text/plain": [
       "0.9637023962266579"
      ]
     },
     "execution_count": 70,
     "metadata": {},
     "output_type": "execute_result"
    }
   ],
   "source": [
    "from sklearn.metrics import r2_score\n",
    "r2_score(y_test,A)"
   ]
  },
  {
   "cell_type": "code",
   "execution_count": 71,
   "id": "156bf614",
   "metadata": {},
   "outputs": [
    {
     "data": {
      "text/plain": [
       "498.89846466332955"
      ]
     },
     "execution_count": 71,
     "metadata": {},
     "output_type": "execute_result"
    }
   ],
   "source": [
    "from sklearn.metrics import mean_squared_error\n",
    "mse=mean_squared_error(y_test,A)\n",
    "mse"
   ]
  },
  {
   "cell_type": "code",
   "execution_count": 72,
   "id": "59f600e4",
   "metadata": {},
   "outputs": [
    {
     "data": {
      "text/plain": [
       "22.33603511510782"
      ]
     },
     "execution_count": 72,
     "metadata": {},
     "output_type": "execute_result"
    }
   ],
   "source": [
    "np.sqrt(mse)"
   ]
  },
  {
   "cell_type": "code",
   "execution_count": null,
   "id": "e77105f5",
   "metadata": {},
   "outputs": [],
   "source": []
  }
 ],
 "metadata": {
  "kernelspec": {
   "display_name": "Python 3 (ipykernel)",
   "language": "python",
   "name": "python3"
  },
  "language_info": {
   "codemirror_mode": {
    "name": "ipython",
    "version": 3
   },
   "file_extension": ".py",
   "mimetype": "text/x-python",
   "name": "python",
   "nbconvert_exporter": "python",
   "pygments_lexer": "ipython3",
   "version": "3.9.12"
  }
 },
 "nbformat": 4,
 "nbformat_minor": 5
}

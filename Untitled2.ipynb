{
 "cells": [
  {
   "cell_type": "markdown",
   "id": "826d5fdb",
   "metadata": {},
   "source": [
    "# import MySQL Connector"
   ]
  },
  {
   "cell_type": "code",
   "execution_count": 1,
   "id": "09938bf7",
   "metadata": {},
   "outputs": [],
   "source": [
    "import mysql.connector as con"
   ]
  },
  {
   "cell_type": "markdown",
   "id": "f6138e16",
   "metadata": {},
   "source": [
    "# connection to database"
   ]
  },
  {
   "cell_type": "code",
   "execution_count": 2,
   "id": "891b4a61",
   "metadata": {},
   "outputs": [
    {
     "name": "stdout",
     "output_type": "stream",
     "text": [
      "<mysql.connector.connection_cext.CMySQLConnection object at 0x000001F07C8D8220>\n"
     ]
    }
   ],
   "source": [
    "import mysql.connector as con\n",
    "new_db=con.connect(\n",
    "    host= \"localhost\",\n",
    "    user= \"root\",\n",
    "    password= \"root\"\n",
    ")\n",
    "print(new_db)"
   ]
  },
  {
   "cell_type": "markdown",
   "id": "16bd88e3",
   "metadata": {},
   "source": [
    "# creating database"
   ]
  },
  {
   "cell_type": "code",
   "execution_count": 3,
   "id": "77d4a9cd",
   "metadata": {},
   "outputs": [],
   "source": [
    "import mysql.connector as con\n",
    "new_db=con.connect(\n",
    "    host= \"localhost\",\n",
    "    user= \"root\",\n",
    "    password= \"root\"\n",
    ")\n",
    "my_cursor = new_db.cursor()\n",
    "my_cursor.execute(\"CREATE DATABASE college\")"
   ]
  },
  {
   "cell_type": "markdown",
   "id": "22c3f1f2",
   "metadata": {},
   "source": [
    "# check database created"
   ]
  },
  {
   "cell_type": "code",
   "execution_count": 4,
   "id": "1dc18df2",
   "metadata": {},
   "outputs": [
    {
     "name": "stdout",
     "output_type": "stream",
     "text": [
      "('college',)\n",
      "('information_schema',)\n",
      "('mysql',)\n",
      "('performance_schema',)\n",
      "('sakila',)\n",
      "('sys',)\n",
      "('world',)\n"
     ]
    }
   ],
   "source": [
    "import mysql.connector as con\n",
    "new_db=con.connect(\n",
    "    host= \"localhost\",\n",
    "    user= \"root\",\n",
    "    password= \"root\"\n",
    ")\n",
    "my_cursor = new_db.cursor()\n",
    "my_cursor.execute(\"SHOW DATABASES\")\n",
    "for a in my_cursor:\n",
    "    print(a)"
   ]
  },
  {
   "cell_type": "markdown",
   "id": "80772a39",
   "metadata": {},
   "source": [
    "# creating table and show data"
   ]
  },
  {
   "cell_type": "code",
   "execution_count": 8,
   "id": "9d42656c",
   "metadata": {},
   "outputs": [],
   "source": [
    "import mysql.connector as con\n",
    "new_db=con.connect(\n",
    "    host= \"localhost\",\n",
    "    user= \"root\",\n",
    "    password= \"root\",\n",
    "    database= \"college\"\n",
    ")\n",
    "my_cursor = new_db.cursor()\n",
    "query=\"CREATE TABLE marks (s1 varchar(20),s2 varchar(10))\"\n",
    "my_cursor.execute(query)\n"
   ]
  },
  {
   "cell_type": "markdown",
   "id": "f04e319a",
   "metadata": {},
   "source": [
    "# list all tables in database"
   ]
  },
  {
   "cell_type": "code",
   "execution_count": 9,
   "id": "946349c6",
   "metadata": {},
   "outputs": [
    {
     "name": "stdout",
     "output_type": "stream",
     "text": [
      "('marks',)\n",
      "('students',)\n"
     ]
    }
   ],
   "source": [
    "import mysql.connector as con\n",
    "new_db=con.connect(\n",
    "    host= \"localhost\",\n",
    "    user= \"root\",\n",
    "    password= \"root\",\n",
    "    database= \"college\"\n",
    ")\n",
    "my_cursor = new_db.cursor()\n",
    "query=\"SHOW TABLES\"\n",
    "my_cursor.execute(query)\n",
    "for n in my_cursor:\n",
    "    print(n)"
   ]
  },
  {
   "cell_type": "markdown",
   "id": "a0cbd3c0",
   "metadata": {},
   "source": [
    "# inserting data into tables"
   ]
  },
  {
   "cell_type": "code",
   "execution_count": 12,
   "id": "94f84af8",
   "metadata": {},
   "outputs": [
    {
     "name": "stdout",
     "output_type": "stream",
     "text": [
      "1 new record inserted\n"
     ]
    }
   ],
   "source": [
    "import mysql.connector as con\n",
    "new_db=con.connect(\n",
    "    host= \"localhost\",\n",
    "    user= \"root\",\n",
    "    password= \"root\",\n",
    "    database= \"college\"\n",
    ")\n",
    "new_cursor = new_db.cursor()\n",
    "query = \"INSERT INTO students (name,regno) VALUES (%s, %s)\"\n",
    "values = ('prajwal','393CS20022')\n",
    "new_cursor.execute(query,values)\n",
    "new_db.commit()\n",
    "print(new_cursor.rowcount,\"new record inserted\")"
   ]
  },
  {
   "cell_type": "markdown",
   "id": "104a5fb5",
   "metadata": {},
   "source": [
    "# inserting multiple records into the table"
   ]
  },
  {
   "cell_type": "code",
   "execution_count": 15,
   "id": "284c32d5",
   "metadata": {},
   "outputs": [
    {
     "name": "stdout",
     "output_type": "stream",
     "text": [
      "4 new record inserted\n"
     ]
    }
   ],
   "source": [
    "import mysql.connector as con\n",
    "new_db=con.connect(\n",
    "    host= \"localhost\",\n",
    "    user= \"root\",\n",
    "    password= \"root\",\n",
    "    database= \"college\"\n",
    ")\n",
    "new_cursor = new_db.cursor()\n",
    "query = \"INSERT INTO students (name,regno) VALUES (%s, %s)\"\n",
    "values = [(\"tanishk\",\"393CS20023\"),\n",
    "          (\"avadhoot\",\"393CS20013\"),\n",
    "          (\"jahid\",\"393CS20008\"),\n",
    "          (\"nihal\",\"393CS20012\")\n",
    "         ]\n",
    "new_cursor.executemany(query,values)\n",
    "new_db.commit()\n",
    "print(new_cursor.rowcount,\"new record inserted\")"
   ]
  },
  {
   "cell_type": "markdown",
   "id": "e1fd4efe",
   "metadata": {},
   "source": [
    "# display the records from tables"
   ]
  },
  {
   "cell_type": "code",
   "execution_count": 16,
   "id": "2dac1934",
   "metadata": {},
   "outputs": [
    {
     "name": "stdout",
     "output_type": "stream",
     "text": [
      "('prajwal', '393CS20022')\n",
      "('prajwal', '393CS20022')\n",
      "('tanishk', '393CS20023')\n",
      "('avadhoot', '393CS20013')\n",
      "('jahid', '393CS20008')\n",
      "('nihal', '393CS20012')\n"
     ]
    }
   ],
   "source": [
    "import mysql.connector as con\n",
    "new_db=con.connect(\n",
    "    host= \"localhost\",\n",
    "    user= \"root\",\n",
    "    password= \"root\",\n",
    "    database= \"college\"\n",
    ")\n",
    "my_cursor = new_db.cursor()\n",
    "query=\"SELECT * FROM students\"\n",
    "my_cursor.execute(query)\n",
    "for n in my_cursor:\n",
    "    print(n)"
   ]
  },
  {
   "cell_type": "code",
   "execution_count": null,
   "id": "5f124c6f",
   "metadata": {},
   "outputs": [],
   "source": []
  }
 ],
 "metadata": {
  "kernelspec": {
   "display_name": "Python 3 (ipykernel)",
   "language": "python",
   "name": "python3"
  },
  "language_info": {
   "codemirror_mode": {
    "name": "ipython",
    "version": 3
   },
   "file_extension": ".py",
   "mimetype": "text/x-python",
   "name": "python",
   "nbconvert_exporter": "python",
   "pygments_lexer": "ipython3",
   "version": "3.9.12"
  }
 },
 "nbformat": 4,
 "nbformat_minor": 5
}

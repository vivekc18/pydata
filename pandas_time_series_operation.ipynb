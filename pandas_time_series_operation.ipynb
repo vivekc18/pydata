{
 "cells": [
  {
   "cell_type": "markdown",
   "id": "00eb0df5",
   "metadata": {},
   "source": [
    "# Time series operation"
   ]
  },
  {
   "cell_type": "code",
   "execution_count": 13,
   "id": "d0cf294e",
   "metadata": {},
   "outputs": [
    {
     "name": "stdout",
     "output_type": "stream",
     "text": [
      "DatetimeIndex(['2022-10-01 00:00:00', '2022-10-01 00:01:00',\n",
      "               '2022-10-01 00:02:00', '2022-10-01 00:03:00',\n",
      "               '2022-10-01 00:04:00', '2022-10-01 00:05:00',\n",
      "               '2022-10-01 00:06:00', '2022-10-01 00:07:00',\n",
      "               '2022-10-01 00:08:00', '2022-10-01 00:09:00',\n",
      "               ...\n",
      "               '2022-10-31 23:51:00', '2022-10-31 23:52:00',\n",
      "               '2022-10-31 23:53:00', '2022-10-31 23:54:00',\n",
      "               '2022-10-31 23:55:00', '2022-10-31 23:56:00',\n",
      "               '2022-10-31 23:57:00', '2022-10-31 23:58:00',\n",
      "               '2022-10-31 23:59:00', '2022-11-01 00:00:00'],\n",
      "              dtype='datetime64[ns]', length=44641, freq='T')\n"
     ]
    }
   ],
   "source": [
    "import numpy as np                            #min\n",
    "import pandas as pd\n",
    "from datetime import datetime\n",
    "time = pd.date_range(start ='10/1/2022', end ='11/1/2022',freq ='min')\n",
    "print(time)"
   ]
  },
  {
   "cell_type": "code",
   "execution_count": 14,
   "id": "e06c88b6",
   "metadata": {},
   "outputs": [
    {
     "name": "stdout",
     "output_type": "stream",
     "text": [
      "DatetimeIndex(['2022-10-01 00:00:00', '2022-10-01 01:00:00',\n",
      "               '2022-10-01 02:00:00', '2022-10-01 03:00:00',\n",
      "               '2022-10-01 04:00:00', '2022-10-01 05:00:00',\n",
      "               '2022-10-01 06:00:00', '2022-10-01 07:00:00',\n",
      "               '2022-10-01 08:00:00', '2022-10-01 09:00:00',\n",
      "               ...\n",
      "               '2022-10-31 15:00:00', '2022-10-31 16:00:00',\n",
      "               '2022-10-31 17:00:00', '2022-10-31 18:00:00',\n",
      "               '2022-10-31 19:00:00', '2022-10-31 20:00:00',\n",
      "               '2022-10-31 21:00:00', '2022-10-31 22:00:00',\n",
      "               '2022-10-31 23:00:00', '2022-11-01 00:00:00'],\n",
      "              dtype='datetime64[ns]', length=745, freq='H')\n"
     ]
    }
   ],
   "source": [
    "import numpy as np                             #hours\n",
    "import pandas as pd\n",
    "from datetime import datetime\n",
    "time = pd.date_range(start ='10/1/2022', end ='11/1/2022',freq ='H')\n",
    "print(time)"
   ]
  },
  {
   "cell_type": "code",
   "execution_count": 15,
   "id": "788f999c",
   "metadata": {},
   "outputs": [
    {
     "name": "stdout",
     "output_type": "stream",
     "text": [
      "DatetimeIndex(['2022-10-01', '2022-10-02', '2022-10-03', '2022-10-04',\n",
      "               '2022-10-05', '2022-10-06', '2022-10-07', '2022-10-08',\n",
      "               '2022-10-09', '2022-10-10', '2022-10-11', '2022-10-12',\n",
      "               '2022-10-13', '2022-10-14', '2022-10-15', '2022-10-16',\n",
      "               '2022-10-17', '2022-10-18', '2022-10-19', '2022-10-20',\n",
      "               '2022-10-21', '2022-10-22', '2022-10-23', '2022-10-24',\n",
      "               '2022-10-25', '2022-10-26', '2022-10-27', '2022-10-28',\n",
      "               '2022-10-29', '2022-10-30', '2022-10-31', '2022-11-01'],\n",
      "              dtype='datetime64[ns]', freq='D')\n"
     ]
    }
   ],
   "source": [
    "import numpy as np                           #days\n",
    "import pandas as pd\n",
    "from datetime import datetime\n",
    "time = pd.date_range(start ='10/1/2022', end ='11/1/2022',freq ='D')\n",
    "print(time)"
   ]
  },
  {
   "cell_type": "code",
   "execution_count": 16,
   "id": "58654368",
   "metadata": {},
   "outputs": [
    {
     "name": "stdout",
     "output_type": "stream",
     "text": [
      "DatetimeIndex(['2022-10-02', '2022-10-09', '2022-10-16', '2022-10-23',\n",
      "               '2022-10-30'],\n",
      "              dtype='datetime64[ns]', freq='W-SUN')\n"
     ]
    }
   ],
   "source": [
    "import numpy as np                                #weeks\n",
    "import pandas as pd\n",
    "from datetime import datetime\n",
    "time = pd.date_range(start ='10/1/2022', end ='11/1/2022',freq ='W')\n",
    "print(time)"
   ]
  },
  {
   "cell_type": "code",
   "execution_count": 17,
   "id": "ef1052f0",
   "metadata": {},
   "outputs": [
    {
     "name": "stdout",
     "output_type": "stream",
     "text": [
      "DatetimeIndex(['2022-10-31'], dtype='datetime64[ns]', freq='M')\n"
     ]
    }
   ],
   "source": [
    "import numpy as np                            #months\n",
    "import pandas as pd\n",
    "from datetime import datetime\n",
    "time = pd.date_range(start ='10/1/2022', end ='11/1/2022',freq ='M')\n",
    "print(time)"
   ]
  },
  {
   "cell_type": "code",
   "execution_count": 12,
   "id": "c442dbb3",
   "metadata": {},
   "outputs": [
    {
     "name": "stdout",
     "output_type": "stream",
     "text": [
      "                 DateTime\n",
      "0     2022-10-01 00:00:00\n",
      "1     2022-10-01 00:01:00\n",
      "2     2022-10-01 00:02:00\n",
      "3     2022-10-01 00:03:00\n",
      "4     2022-10-01 00:04:00\n",
      "...                   ...\n",
      "44636 2022-10-31 23:56:00\n",
      "44637 2022-10-31 23:57:00\n",
      "44638 2022-10-31 23:58:00\n",
      "44639 2022-10-31 23:59:00\n",
      "44640 2022-11-01 00:00:00\n",
      "\n",
      "[44641 rows x 1 columns]\n"
     ]
    }
   ],
   "source": [
    "import numpy as np\n",
    "import pandas as pd\n",
    "from datetime import datetime\n",
    "time = pd.date_range(start ='10/1/2022', end ='11/1/2022',freq ='Min')\n",
    "df = pd.DataFrame(time, columns=['DateTime'])\n",
    "print(df)"
   ]
  },
  {
   "cell_type": "code",
   "execution_count": 6,
   "id": "a052fc93",
   "metadata": {},
   "outputs": [
    {
     "name": "stdout",
     "output_type": "stream",
     "text": [
      "                 DateTime  DATA\n",
      "0     2022-10-01 00:00:00    12\n",
      "1     2022-10-01 00:01:00    87\n",
      "2     2022-10-01 00:02:00    54\n",
      "3     2022-10-01 00:03:00    21\n",
      "4     2022-10-01 00:04:00    36\n",
      "...                   ...   ...\n",
      "44636 2022-10-31 23:56:00    88\n",
      "44637 2022-10-31 23:57:00    11\n",
      "44638 2022-10-31 23:58:00    54\n",
      "44639 2022-10-31 23:59:00    50\n",
      "44640 2022-11-01 00:00:00    44\n",
      "\n",
      "[44641 rows x 2 columns]\n"
     ]
    },
    {
     "data": {
      "text/html": [
       "<div>\n",
       "<style scoped>\n",
       "    .dataframe tbody tr th:only-of-type {\n",
       "        vertical-align: middle;\n",
       "    }\n",
       "\n",
       "    .dataframe tbody tr th {\n",
       "        vertical-align: top;\n",
       "    }\n",
       "\n",
       "    .dataframe thead th {\n",
       "        text-align: right;\n",
       "    }\n",
       "</style>\n",
       "<table border=\"1\" class=\"dataframe\">\n",
       "  <thead>\n",
       "    <tr style=\"text-align: right;\">\n",
       "      <th></th>\n",
       "      <th>DateTime</th>\n",
       "      <th>DATA</th>\n",
       "    </tr>\n",
       "  </thead>\n",
       "  <tbody>\n",
       "    <tr>\n",
       "      <th>0</th>\n",
       "      <td>2022-10-01 00:00:00</td>\n",
       "      <td>12</td>\n",
       "    </tr>\n",
       "    <tr>\n",
       "      <th>1</th>\n",
       "      <td>2022-10-01 00:01:00</td>\n",
       "      <td>87</td>\n",
       "    </tr>\n",
       "    <tr>\n",
       "      <th>2</th>\n",
       "      <td>2022-10-01 00:02:00</td>\n",
       "      <td>54</td>\n",
       "    </tr>\n",
       "    <tr>\n",
       "      <th>3</th>\n",
       "      <td>2022-10-01 00:03:00</td>\n",
       "      <td>21</td>\n",
       "    </tr>\n",
       "    <tr>\n",
       "      <th>4</th>\n",
       "      <td>2022-10-01 00:04:00</td>\n",
       "      <td>36</td>\n",
       "    </tr>\n",
       "    <tr>\n",
       "      <th>5</th>\n",
       "      <td>2022-10-01 00:05:00</td>\n",
       "      <td>51</td>\n",
       "    </tr>\n",
       "    <tr>\n",
       "      <th>6</th>\n",
       "      <td>2022-10-01 00:06:00</td>\n",
       "      <td>51</td>\n",
       "    </tr>\n",
       "    <tr>\n",
       "      <th>7</th>\n",
       "      <td>2022-10-01 00:07:00</td>\n",
       "      <td>46</td>\n",
       "    </tr>\n",
       "    <tr>\n",
       "      <th>8</th>\n",
       "      <td>2022-10-01 00:08:00</td>\n",
       "      <td>53</td>\n",
       "    </tr>\n",
       "    <tr>\n",
       "      <th>9</th>\n",
       "      <td>2022-10-01 00:09:00</td>\n",
       "      <td>53</td>\n",
       "    </tr>\n",
       "    <tr>\n",
       "      <th>10</th>\n",
       "      <td>2022-10-01 00:10:00</td>\n",
       "      <td>66</td>\n",
       "    </tr>\n",
       "    <tr>\n",
       "      <th>11</th>\n",
       "      <td>2022-10-01 00:11:00</td>\n",
       "      <td>39</td>\n",
       "    </tr>\n",
       "    <tr>\n",
       "      <th>12</th>\n",
       "      <td>2022-10-01 00:12:00</td>\n",
       "      <td>24</td>\n",
       "    </tr>\n",
       "    <tr>\n",
       "      <th>13</th>\n",
       "      <td>2022-10-01 00:13:00</td>\n",
       "      <td>75</td>\n",
       "    </tr>\n",
       "    <tr>\n",
       "      <th>14</th>\n",
       "      <td>2022-10-01 00:14:00</td>\n",
       "      <td>91</td>\n",
       "    </tr>\n",
       "    <tr>\n",
       "      <th>15</th>\n",
       "      <td>2022-10-01 00:15:00</td>\n",
       "      <td>55</td>\n",
       "    </tr>\n",
       "    <tr>\n",
       "      <th>16</th>\n",
       "      <td>2022-10-01 00:16:00</td>\n",
       "      <td>51</td>\n",
       "    </tr>\n",
       "    <tr>\n",
       "      <th>17</th>\n",
       "      <td>2022-10-01 00:17:00</td>\n",
       "      <td>18</td>\n",
       "    </tr>\n",
       "    <tr>\n",
       "      <th>18</th>\n",
       "      <td>2022-10-01 00:18:00</td>\n",
       "      <td>37</td>\n",
       "    </tr>\n",
       "    <tr>\n",
       "      <th>19</th>\n",
       "      <td>2022-10-01 00:19:00</td>\n",
       "      <td>36</td>\n",
       "    </tr>\n",
       "  </tbody>\n",
       "</table>\n",
       "</div>"
      ],
      "text/plain": [
       "              DateTime  DATA\n",
       "0  2022-10-01 00:00:00    12\n",
       "1  2022-10-01 00:01:00    87\n",
       "2  2022-10-01 00:02:00    54\n",
       "3  2022-10-01 00:03:00    21\n",
       "4  2022-10-01 00:04:00    36\n",
       "5  2022-10-01 00:05:00    51\n",
       "6  2022-10-01 00:06:00    51\n",
       "7  2022-10-01 00:07:00    46\n",
       "8  2022-10-01 00:08:00    53\n",
       "9  2022-10-01 00:09:00    53\n",
       "10 2022-10-01 00:10:00    66\n",
       "11 2022-10-01 00:11:00    39\n",
       "12 2022-10-01 00:12:00    24\n",
       "13 2022-10-01 00:13:00    75\n",
       "14 2022-10-01 00:14:00    91\n",
       "15 2022-10-01 00:15:00    55\n",
       "16 2022-10-01 00:16:00    51\n",
       "17 2022-10-01 00:17:00    18\n",
       "18 2022-10-01 00:18:00    37\n",
       "19 2022-10-01 00:19:00    36"
      ]
     },
     "execution_count": 6,
     "metadata": {},
     "output_type": "execute_result"
    }
   ],
   "source": [
    "import numpy as np\n",
    "import pandas as pd\n",
    "from datetime import datetime\n",
    "time = pd.date_range(start ='10/1/2022', end ='11/1/2022',freq ='Min')\n",
    "df = pd.DataFrame(time, columns=['DateTime'])\n",
    "df['DATA'] = np.random.randint(0,100,size=(len(time)))\n",
    "print(df)\n",
    "#df.head()\n",
    "df.head(20)"
   ]
  },
  {
   "cell_type": "code",
   "execution_count": null,
   "id": "de18d754",
   "metadata": {},
   "outputs": [],
   "source": []
  }
 ],
 "metadata": {
  "kernelspec": {
   "display_name": "Python 3 (ipykernel)",
   "language": "python",
   "name": "python3"
  },
  "language_info": {
   "codemirror_mode": {
    "name": "ipython",
    "version": 3
   },
   "file_extension": ".py",
   "mimetype": "text/x-python",
   "name": "python",
   "nbconvert_exporter": "python",
   "pygments_lexer": "ipython3",
   "version": "3.9.12"
  }
 },
 "nbformat": 4,
 "nbformat_minor": 5
}

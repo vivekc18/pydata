{
 "cells": [
  {
   "cell_type": "markdown",
   "id": "b54e2c6e",
   "metadata": {},
   "source": [
    "EXERCISE\n",
    "Problem Statement:\n",
    "Lee decides to walk 10000 steps every day to combat the effect that lockdown has had on his body’s agility, mobility, flexibility and strength. Consider the following data from fitness tracker over a period of 10 days\n",
    "\n",
    "Day number\tSteps walked\n",
    "\n",
    "1\t6012\n",
    "\n",
    "2\t7079\n",
    "\n",
    "3\t6886\n",
    "\n",
    "4\t7230\n",
    "\n",
    "5\t4598\n",
    "\n",
    "6\t5564\n",
    "\n",
    "7\t6971\n",
    "\n",
    "8\t7763\n",
    "\n",
    "9\t8032\n",
    "\n",
    "10\t9569\n",
    "\n",
    " \n",
    " 1 . \tRepresent the above data in a 10x2 array. In each row, the first element should contain day number and second element should contain steps walked.\n",
    " \n",
    " 2 .\tLee notices that the tracker’s battery dies every day at 7 pm. Lee discovers that on an average, he walks 2000 steps every day after 7 pm. Perform an appropriate operation on your array to add 2000 steps to all the observations.\n",
    " \n",
    " 3 .\tWrite a program that returns the steps walked if the steps walked are more than 9000.\n",
    " \n",
    " 4 .\tPrint an array containing steps walked in sorted order.\n",
    " \n"
   ]
  },
  {
   "cell_type": "code",
   "execution_count": 21,
   "id": "243094fe",
   "metadata": {},
   "outputs": [],
   "source": [
    "import numpy as np\n",
    "from numpy import array"
   ]
  },
  {
   "cell_type": "code",
   "execution_count": 22,
   "id": "0a0834fa",
   "metadata": {},
   "outputs": [],
   "source": [
    "arr=np.array([[1,6012],[2,7079],[3,6886],[4,7230],[5,4598],[6,5564],[7,6971],[8,7763],[9,8032],[10,9569]])"
   ]
  },
  {
   "cell_type": "code",
   "execution_count": 23,
   "id": "f3549abd",
   "metadata": {},
   "outputs": [
    {
     "data": {
      "text/plain": [
       "array([[   1, 6012],\n",
       "       [   2, 7079],\n",
       "       [   3, 6886],\n",
       "       [   4, 7230],\n",
       "       [   5, 4598],\n",
       "       [   6, 5564],\n",
       "       [   7, 6971],\n",
       "       [   8, 7763],\n",
       "       [   9, 8032],\n",
       "       [  10, 9569]])"
      ]
     },
     "execution_count": 23,
     "metadata": {},
     "output_type": "execute_result"
    }
   ],
   "source": [
    "arr"
   ]
  },
  {
   "cell_type": "code",
   "execution_count": 24,
   "id": "57789260",
   "metadata": {},
   "outputs": [
    {
     "data": {
      "text/plain": [
       "array([[    1,  8012],\n",
       "       [    2,  9079],\n",
       "       [    3,  8886],\n",
       "       [    4,  9230],\n",
       "       [    5,  6598],\n",
       "       [    6,  7564],\n",
       "       [    7,  8971],\n",
       "       [    8,  9763],\n",
       "       [    9, 10032],\n",
       "       [   10, 11569]])"
      ]
     },
     "execution_count": 24,
     "metadata": {},
     "output_type": "execute_result"
    }
   ],
   "source": [
    "new_arr=arr[:,1]+2000\n",
    "arr[:,1]=new_arr\n",
    "arr"
   ]
  },
  {
   "cell_type": "code",
   "execution_count": 25,
   "id": "7752deed",
   "metadata": {},
   "outputs": [
    {
     "data": {
      "text/plain": [
       "array([[    2,  9079],\n",
       "       [    4,  9230],\n",
       "       [    8,  9763],\n",
       "       [    9, 10032],\n",
       "       [   10, 11569]])"
      ]
     },
     "execution_count": 25,
     "metadata": {},
     "output_type": "execute_result"
    }
   ],
   "source": [
    "arr1=arr[:,1]>9000\n",
    "arr1\n",
    "new_arr=arr[arr1]\n",
    "new_arr"
   ]
  },
  {
   "cell_type": "code",
   "execution_count": 26,
   "id": "a98ee552",
   "metadata": {},
   "outputs": [
    {
     "name": "stdout",
     "output_type": "stream",
     "text": [
      "[[    5  6598]\n",
      " [    6  7564]\n",
      " [    1  8012]\n",
      " [    3  8886]\n",
      " [    7  8971]\n",
      " [    2  9079]\n",
      " [    4  9230]\n",
      " [    8  9763]\n",
      " [    9 10032]\n",
      " [   10 11569]]\n"
     ]
    }
   ],
   "source": [
    "sort=arr[arr[:,1].argsort()]\n",
    "print(sort)"
   ]
  },
  {
   "cell_type": "code",
   "execution_count": null,
   "id": "a58e3bfa",
   "metadata": {},
   "outputs": [],
   "source": []
  }
 ],
 "metadata": {
  "kernelspec": {
   "display_name": "Python 3 (ipykernel)",
   "language": "python",
   "name": "python3"
  },
  "language_info": {
   "codemirror_mode": {
    "name": "ipython",
    "version": 3
   },
   "file_extension": ".py",
   "mimetype": "text/x-python",
   "name": "python",
   "nbconvert_exporter": "python",
   "pygments_lexer": "ipython3",
   "version": "3.9.12"
  }
 },
 "nbformat": 4,
 "nbformat_minor": 5
}

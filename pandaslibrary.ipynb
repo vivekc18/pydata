{
 "cells": [
  {
   "cell_type": "markdown",
   "id": "aac1195f",
   "metadata": {},
   "source": [
    "# Pandas Series"
   ]
  },
  {
   "cell_type": "code",
   "execution_count": 6,
   "id": "1d56111b",
   "metadata": {},
   "outputs": [
    {
     "name": "stdout",
     "output_type": "stream",
     "text": [
      "0    1\n",
      "1    2\n",
      "2    3\n",
      "3    4\n",
      "4    5\n",
      "dtype: int64\n",
      "0    a\n",
      "1    b\n",
      "2    c\n",
      "3    d\n",
      "4    e\n",
      "dtype: object\n"
     ]
    }
   ],
   "source": [
    "import numpy as np\n",
    "import pandas as pd\n",
    "s=pd.Series([1,2,3,4,5])\n",
    "print(s)\n",
    "a=pd.Series(['a','b','c','d','e'])\n",
    "print(a)"
   ]
  },
  {
   "cell_type": "code",
   "execution_count": 7,
   "id": "c4455e5b",
   "metadata": {},
   "outputs": [
    {
     "name": "stdout",
     "output_type": "stream",
     "text": [
      "0     12\n",
      "1     34\n",
      "2     56\n",
      "3     78\n",
      "4     90\n",
      "5      1\n",
      "6      2\n",
      "7      3\n",
      "8      4\n",
      "9      5\n",
      "10     6\n",
      "dtype: int64\n"
     ]
    }
   ],
   "source": [
    "import pandas as pd\n",
    "score=pd.Series([12,34,56,78,90,1,2,3,4,5,6])\n",
    "print(score)"
   ]
  },
  {
   "cell_type": "code",
   "execution_count": 10,
   "id": "b7e1382d",
   "metadata": {},
   "outputs": [
    {
     "name": "stdout",
     "output_type": "stream",
     "text": [
      "rohit       12\n",
      "rahul       34\n",
      "virat       56\n",
      "sky         78\n",
      "dk          90\n",
      "axar         1\n",
      "hardik       2\n",
      "ashwin       3\n",
      "arshdeep     4\n",
      "chahal       5\n",
      "kumar        6\n",
      "dtype: int64\n"
     ]
    }
   ],
   "source": [
    "import pandas as pd\n",
    "i=pd.Index(['rohit','rahul','virat','sky','dk','axar','hardik','ashwin','arshdeep','chahal','kumar'])\n",
    "score=pd.Series([12,34,56,78,90,1,2,3,4,5,6],index=i)\n",
    "print(score)"
   ]
  },
  {
   "cell_type": "markdown",
   "id": "b8571d75",
   "metadata": {},
   "source": [
    "# DATAFRAMES"
   ]
  },
  {
   "cell_type": "code",
   "execution_count": 1,
   "id": "7e5a9fc5",
   "metadata": {},
   "outputs": [
    {
     "name": "stdout",
     "output_type": "stream",
     "text": [
      "[[0 1 2]\n",
      " [3 4 5]\n",
      " [6 7 8]]\n",
      "   A  B  C\n",
      "a  0  1  2\n",
      "b  3  4  5\n",
      "c  6  7  8\n"
     ]
    }
   ],
   "source": [
    "import numpy as np\n",
    "import pandas as pd\n",
    "arr=np.arange(0,9).reshape(3,3)\n",
    "print(arr)  #numpy ndarray\n",
    "df=pd.DataFrame(arr,index=['a','b','c'],columns=['A','B','C'])\n",
    "print(df)   #pandas data frame"
   ]
  },
  {
   "cell_type": "code",
   "execution_count": 2,
   "id": "ef01a3b2",
   "metadata": {},
   "outputs": [
    {
     "name": "stdout",
     "output_type": "stream",
     "text": [
      "         OSA  python  SE  Java\n",
      "rahul     23      24  20    19\n",
      "krishna   20      24  25    19\n",
      "abhinav   19      22  23    18\n"
     ]
    }
   ],
   "source": [
    "import numpy as np\n",
    "import pandas as pd\n",
    "df=pd.DataFrame([[23,24,20,19],[20,24,25,19],[19,22,23,18]],index=['rahul','krishna','abhinav'],columns=['OSA','python','SE','Java'])\n",
    "print(df)"
   ]
  },
  {
   "cell_type": "code",
   "execution_count": 3,
   "id": "fecc5152",
   "metadata": {},
   "outputs": [
    {
     "name": "stdout",
     "output_type": "stream",
     "text": [
      "    OSA  python\n",
      "0  23.0      20\n",
      "1  20.0      23\n",
      "2  19.0      25\n",
      "3   NaN      20\n"
     ]
    }
   ],
   "source": [
    "import numpy as np\n",
    "import pandas as pd\n",
    "ser1=pd.Series([23,20,19])\n",
    "ser2=pd.Series([20,23,25,20])\n",
    "print(pd.DataFrame({\"OSA\":ser1,\"python\":ser2}))"
   ]
  },
  {
   "cell_type": "markdown",
   "id": "26188884",
   "metadata": {},
   "source": [
    "# Create DataFrame containing information about cities"
   ]
  },
  {
   "cell_type": "code",
   "execution_count": 4,
   "id": "e8d70bca",
   "metadata": {},
   "outputs": [
    {
     "name": "stdout",
     "output_type": "stream",
     "text": [
      "            Population      Capital\n",
      "Karnataka         6.72     Banglore\n",
      "Maharashtra      12.54       Mumbai\n",
      "Gujarat            7.0  Gandhinagar\n"
     ]
    }
   ],
   "source": [
    "import numpy as np\n",
    "import pandas as pd\n",
    "i=pd.Index(['Karnataka','Maharashtra','Gujarat'])\n",
    "#print(i)\n",
    "pop=pd.Series(['6.72','12.54','7.0'],index=i, name=\"Population\")\n",
    "#print(pop)\n",
    "cap=pd.Series(['Banglore','Mumbai','Gandhinagar'],index=i, name=\"Capital\")\n",
    "#print(cap)\n",
    "#df=pd.DataFrame ([pop,cap])    #will not display in prpoer format\n",
    "#df=pd.DataFrame ([pop,cap]).T  #will display in proper format but columns names missing\n",
    "df=pd.DataFrame({\"Population\":pop, \"Capital\":cap})\n",
    "#df=pd.DataFrame([['6.72','Banglore'],[.12.54,'Mumbai'],['7.0','Gandhinagar']],index=[\"Karnataka\",\"Maharashtra\",\"Gandhinagar\"],columns=['Population','Capital'])#creating dataframe in one line\n",
    "print(df)"
   ]
  },
  {
   "cell_type": "markdown",
   "id": "1240e437",
   "metadata": {},
   "source": [
    "# how to add new data to series"
   ]
  },
  {
   "cell_type": "code",
   "execution_count": 5,
   "id": "20eff559",
   "metadata": {},
   "outputs": [
    {
     "name": "stderr",
     "output_type": "stream",
     "text": [
      "C:\\Users\\CS-L2-PC04\\AppData\\Local\\Temp\\ipykernel_5648\\2795845560.py:4: FutureWarning: The series.append method is deprecated and will be removed from pandas in a future version. Use pandas.concat instead.\n",
      "  pop.append(pd.Series({\"TamilNadu\":8.9}))\n"
     ]
    },
    {
     "data": {
      "text/plain": [
       "Karnataka       6.72\n",
       "Maharashtra    12.54\n",
       "Gujarat          7.0\n",
       "TamilNadu        8.9\n",
       "dtype: object"
      ]
     },
     "execution_count": 5,
     "metadata": {},
     "output_type": "execute_result"
    }
   ],
   "source": [
    "import numpy as np\n",
    "import pandas as pd\n",
    "#print(pop)\n",
    "pop.append(pd.Series({\"TamilNadu\":8.9}))\n",
    "#print(pop)\n",
    "\n",
    "#hoe to add new data to series"
   ]
  },
  {
   "cell_type": "markdown",
   "id": "3f8f66d9",
   "metadata": {},
   "source": [
    "# how to add new data to series"
   ]
  },
  {
   "cell_type": "markdown",
   "id": "cd2a2716",
   "metadata": {},
   "source": [
    "Method 1"
   ]
  },
  {
   "cell_type": "code",
   "execution_count": 6,
   "id": "d5ac0948",
   "metadata": {},
   "outputs": [
    {
     "name": "stdout",
     "output_type": "stream",
     "text": [
      "              Population     Capitals    Capital\n",
      "Karnataka           6.72     Banglore        NaN\n",
      "Maharashtra        12.54       Mumbai        NaN\n",
      "Gujarat              7.0  Gandhinagar        NaN\n",
      "Tamil Nadu           8.9          NaN    chennai\n",
      "Andra Pradesh      12.54          NaN  Hyderabad\n"
     ]
    },
    {
     "name": "stderr",
     "output_type": "stream",
     "text": [
      "C:\\Users\\CS-L2-PC04\\AppData\\Local\\Temp\\ipykernel_5648\\4280477132.py:5: FutureWarning: The frame.append method is deprecated and will be removed from pandas in a future version. Use pandas.concat instead.\n",
      "  print(df.append(pd.DataFrame([['8.9','chennai'],['12.54','Hyderabad']],index=['Tamil Nadu','Andra Pradesh'],columns=['Population','Capital'])))\n"
     ]
    }
   ],
   "source": [
    "import numpy as np\n",
    "import pandas as pd\n",
    "df=pd.DataFrame([['6.72','Banglore'],['12.54','Mumbai'],['7.0','Gandhinagar']],index=['Karnataka','Maharashtra','Gujarat'],columns=['Population','Capitals'])\n",
    "#print(df)\n",
    "print(df.append(pd.DataFrame([['8.9','chennai'],['12.54','Hyderabad']],index=['Tamil Nadu','Andra Pradesh'],columns=['Population','Capital'])))"
   ]
  },
  {
   "cell_type": "markdown",
   "id": "bc0f7807",
   "metadata": {},
   "source": [
    "method 2"
   ]
  },
  {
   "cell_type": "code",
   "execution_count": 9,
   "id": "d3c78d30",
   "metadata": {},
   "outputs": [
    {
     "name": "stdout",
     "output_type": "stream",
     "text": [
      "            Population      Capital\n",
      "Karnataka         6.72     Banglore\n",
      "Maharashtra      12.54       Mumbai\n",
      "Gujarat            7.0  Gandhinagar\n",
      "              Population      Capital\n",
      "Karnataka           6.72     Banglore\n",
      "Maharashtra        12.54       Mumbai\n",
      "Gujarat              7.0  Gandhinagar\n",
      "Tamil Nadu           8.9      Chennai\n",
      "Andra Pradesh       12.6    Hyderabad\n"
     ]
    },
    {
     "name": "stderr",
     "output_type": "stream",
     "text": [
      "C:\\Users\\CS-L2-PC04\\AppData\\Local\\Temp\\ipykernel_5648\\2158490925.py:8: FutureWarning: The frame.append method is deprecated and will be removed from pandas in a future version. Use pandas.concat instead.\n",
      "  print(df.append(pd.DataFrame({\"Population\":pd.Series({\"Tamil Nadu\":8.9, \"Andra Pradesh\":12.6}),\"Capital\":pd.Series({\"Tamil Nadu\":\"Chennai\",\"Andra Pradesh\":\"Hyderabad\"})})))\n"
     ]
    }
   ],
   "source": [
    "import numpy as np\n",
    "import pandas as pd\n",
    "i=pd.Index(['Karnataka','Maharashtra','Gujarat'])\n",
    "pop=pd.Series(['6.72','12.54','7.0'],index=i, name=\"Capital\")\n",
    "cap=pd.Series(['Banglore','Mumbai','Gandhinagar'],index=i, name=\"Capital\")\n",
    "df=pd.DataFrame({\"Population\":pop,\"Capital\":cap})\n",
    "print(df)\n",
    "print(df.append(pd.DataFrame({\"Population\":pd.Series({\"Tamil Nadu\":8.9, \"Andra Pradesh\":12.6}),\"Capital\":pd.Series({\"Tamil Nadu\":\"Chennai\",\"Andra Pradesh\":\"Hyderabad\"})})))"
   ]
  },
  {
   "cell_type": "code",
   "execution_count": null,
   "id": "b88afc7e",
   "metadata": {},
   "outputs": [],
   "source": []
  }
 ],
 "metadata": {
  "kernelspec": {
   "display_name": "Python 3 (ipykernel)",
   "language": "python",
   "name": "python3"
  },
  "language_info": {
   "codemirror_mode": {
    "name": "ipython",
    "version": 3
   },
   "file_extension": ".py",
   "mimetype": "text/x-python",
   "name": "python",
   "nbconvert_exporter": "python",
   "pygments_lexer": "ipython3",
   "version": "3.9.12"
  }
 },
 "nbformat": 4,
 "nbformat_minor": 5
}
